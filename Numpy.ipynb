{
 "cells": [
  {
   "cell_type": "markdown",
   "metadata": {},
   "source": [
    "**Problem 1:** What is Python library? Why do we use Python libraries?\n",
    "\n",
    "**Answer:** A Python library is collection of reable Python functions and methods bundled together, serving different purposed and making Python a versatile\n",
    "for various programming tasks. We use Python libraries to promote code reuse, save time and effort, and improve efficiency by providing access to pre-written and tested code for specific functions or tasks. They allow for better organization, easier debug, and increased readability of your code, and are an essential part of Python programming. "
   ]
  },
  {
   "cell_type": "markdown",
   "metadata": {},
   "source": [
    "**Problem 2:** What is the difference between Numpy array and List?\n",
    "\n",
    "**Answer:** A numpy array and list are both data structures in Python, but they have some key differences:\n",
    "\n",
    " 1. *Data type:* A numpy array can contian elements of the same data type, while a list can contain elements of the different data types.\n",
    "\n",
    " 2. *Memory Allocation:* Numpy arrays are more memory efficient than lists. They use less memory because they store data in a contiguous block of memory, and they can store large amounts of data in small memory footprint.\n",
    "\n",
    " 3. *Speed:* Numpy arrays are faster than list for mathematical operations. This is because numpy arrays are implemented in C, which is a compiled language, and they can perfors operations on entire arrays at once, which is not possible with lists.\n",
    "\n",
    " 4. *Functionality:* Numpy arrays have more advanced functionality for mathematical operations and manipulation. They have built in functions for operations like slicing, indexing, reshaping, and broadcasting, which are not available in lists."
   ]
  },
  {
   "cell_type": "markdown",
   "metadata": {},
   "source": [
    "**Problem 3:** Find the shape, size and dimension of the following array?\n",
    "\n",
    "[[1, 2, 3, 4],\n",
    " [5, 6, 7, 8],\n",
    " [9, 10, 11, 12]]"
   ]
  },
  {
   "cell_type": "code",
   "execution_count": 3,
   "metadata": {},
   "outputs": [
    {
     "name": "stdout",
     "output_type": "stream",
     "text": [
      "Given array:\n",
      " [[ 1  2  3  4]\n",
      " [ 5  6  7  8]\n",
      " [ 9 10 11 12]] \n",
      "\n",
      "Shape: (3, 4)\n",
      "Size: 12\n",
      "Dimension: (3, 4)\n"
     ]
    }
   ],
   "source": [
    "import numpy as np  # Import numpy from python library \n",
    "\n",
    "# We have given array:\n",
    "given_arr = np.array([[1, 2, 3, 4], [5, 6, 7, 8], [9, 10, 11, 12]])\n",
    "print(\"Given array:\\n\", given_arr, \"\\n\")\n",
    "\n",
    "print(\"Shape:\", given_arr.shape, end='\\n')  # Calculating shape of the given_arr\n",
    "print(\"Size:\", given_arr.size, end='\\n')    # Calculating size of the given_arr\n",
    "print(\"Dimension:\", given_arr.shape)         # Calculating dimension of the given_arr"
   ]
  },
  {
   "cell_type": "markdown",
   "metadata": {},
   "source": [
    "**Problem 4:** Write python code to access the first row of the following array?\n",
    "\n",
    "**Solution:**"
   ]
  },
  {
   "cell_type": "code",
   "execution_count": 28,
   "metadata": {},
   "outputs": [
    {
     "name": "stdout",
     "output_type": "stream",
     "text": [
      "Given array:\n",
      " [[ 1  2  3  4]\n",
      " [ 5  6  7  8]\n",
      " [ 9 10 11 12]] \n",
      "\n",
      "First row: [1 2 3 4]\n"
     ]
    }
   ],
   "source": [
    "# Given array:\n",
    "given_arr = np.array([[1, 2, 3, 4], [5, 6, 7, 8], [9, 10, 11, 12]])\n",
    "print(\"Given array:\\n\", given_arr, \"\\n\")\n",
    "\n",
    "# Accsing first row of the given_arr using indexing method\n",
    "print(\"First row:\", given_arr[0])"
   ]
  },
  {
   "cell_type": "markdown",
   "metadata": {},
   "source": [
    "**Problem 5:** How do you access the element at the third row and fourth column from the given numpy array?\n",
    "\n",
    "**Solution:** We can access the element at the third row and fourth column from the given numpy array using indexing method."
   ]
  },
  {
   "cell_type": "code",
   "execution_count": 27,
   "metadata": {},
   "outputs": [
    {
     "name": "stdout",
     "output_type": "stream",
     "text": [
      "Given array:\n",
      " [[ 1  2  3  4]\n",
      " [ 5  6  7  8]\n",
      " [ 9 10 11 12]] \n",
      "\n",
      "Element at 3rd row and 4th column: 12\n"
     ]
    }
   ],
   "source": [
    "# Example:\n",
    "\n",
    "# Given array:\n",
    "given_arr = np.array([[1, 2, 3, 4], [5, 6, 7, 8], [9, 10, 11, 12]])\n",
    "print(\"Given array:\\n\", given_arr, \"\\n\")\n",
    "\n",
    "# Accessing element at 3rd row and 4th column, using indexing method.\n",
    "print(\"Element at 3rd row and 4th column:\", given_arr[2][3])"
   ]
  },
  {
   "cell_type": "markdown",
   "metadata": {},
   "source": [
    "**Problem 6:** Write code to extract all odd-indexed elements from the given numpy array?\n",
    "\n",
    "**Solution:**"
   ]
  },
  {
   "cell_type": "code",
   "execution_count": 4,
   "metadata": {},
   "outputs": [
    {
     "name": "stdout",
     "output_type": "stream",
     "text": [
      "Given array:\n",
      " [[ 1  2  3  4]\n",
      " [ 5  6  7  8]\n",
      " [ 9 10 11 12]] \n",
      "\n",
      "Odd indexed elements:\n",
      " [[ 2  4]\n",
      " [ 6  8]\n",
      " [10 12]]\n"
     ]
    }
   ],
   "source": [
    "# Given array:\n",
    "given_arr = np.array([[1, 2, 3, 4], [5, 6, 7, 8], [9, 10, 11, 12]])\n",
    "print(\"Given array:\\n\", given_arr, \"\\n\")\n",
    "\n",
    "# Extracting all odd-indexed elements from the given numpy array, using indexing and slicing method\n",
    "odd_indexed_elements = given_arr[:, 1::2]\n",
    "print(\"Odd indexed elements:\\n\", odd_indexed_elements)\n"
   ]
  },
  {
   "cell_type": "markdown",
   "metadata": {},
   "source": [
    "**Problem 7:** How can you generate a random 3x3 matrix with values between 0 and 1?\n",
    "\n",
    "**Solution:** We can use the following code to generate a random 3x3 matrix with values between 0 and 1."
   ]
  },
  {
   "cell_type": "code",
   "execution_count": 29,
   "metadata": {},
   "outputs": [
    {
     "name": "stdout",
     "output_type": "stream",
     "text": [
      "[[0.83026085 0.47807824 0.48496666]\n",
      " [0.26723115 0.25425173 0.70674668]\n",
      " [0.6552762  0.92758364 0.4131714 ]]\n"
     ]
    }
   ],
   "source": [
    "# Generating 3x3 matrix with values between 0 and 1\n",
    "matrix = np.random.rand(3, 3)\n",
    "\n",
    "# Print the generated matrix\n",
    "print(matrix)"
   ]
  },
  {
   "cell_type": "markdown",
   "metadata": {},
   "source": [
    "**Problem 8:** Describe the difference between np.random.rand and np.randn?\n",
    "\n",
    "**Solution:** The functions 'np.random.rand' and 'np.random.randn' Python's Numpy library both generate random values, but they differ in their distribution and purpose.\n",
    "\n",
    "* np.random.rand generated random values from a distribution over the interval '[0, 1)'. It takes one or more arguments specifying the shape of the output array, and returns an array of the given shape filled with random values.\n",
    "\n",
    "* Here's an example:"
   ]
  },
  {
   "cell_type": "code",
   "execution_count": 30,
   "metadata": {},
   "outputs": [
    {
     "name": "stdout",
     "output_type": "stream",
     "text": [
      "[[0.34017584 0.42222098 0.23103121 0.7174268 ]\n",
      " [0.82836461 0.2257545  0.76307667 0.62028884]\n",
      " [0.49967161 0.74687219 0.47634287 0.14526647]\n",
      " [0.2458038  0.94342014 0.2075926  0.34751249]]\n"
     ]
    }
   ],
   "source": [
    "arr = np.random.rand(4, 4)\n",
    "print(arr)"
   ]
  },
  {
   "cell_type": "markdown",
   "metadata": {},
   "source": [
    "* np.random.randn' generates random values from a standard normal distribution (also known as Gaussian distribution), which has a mean of 0 and a standard deviation of 1. It also taked one or more arguments specifying the shape of the output array, and returns an array of the given shape filled with random values.\n",
    "\n",
    "* Here's an example:"
   ]
  },
  {
   "cell_type": "code",
   "execution_count": 32,
   "metadata": {},
   "outputs": [
    {
     "name": "stdout",
     "output_type": "stream",
     "text": [
      "[[ 1.42702033 -0.33421309 -1.72848106  1.23271988]\n",
      " [ 0.05092147  0.21517289  0.77872809 -1.23920304]\n",
      " [-0.40219057 -0.00970809  0.21040912  1.39313101]]\n"
     ]
    }
   ],
   "source": [
    "arr = np.random.randn(3, 4)\n",
    "print(arr)"
   ]
  },
  {
   "cell_type": "markdown",
   "metadata": {},
   "source": [
    "**Problem 9:** Write code to increase the dimension of the following array?\n",
    "\n",
    "**Solution:**"
   ]
  },
  {
   "cell_type": "code",
   "execution_count": 40,
   "metadata": {},
   "outputs": [
    {
     "name": "stdout",
     "output_type": "stream",
     "text": [
      "Before expanding dimesion:\n",
      " [[ 1  2  3  4]\n",
      " [ 5  6  7  8]\n",
      " [ 9 10 11 12]] \n",
      "\n",
      "After expanding dimension:\n",
      " [[[ 1  2  3  4]\n",
      "  [ 5  6  7  8]\n",
      "  [ 9 10 11 12]]]\n"
     ]
    }
   ],
   "source": [
    "# Given array\n",
    "given_arr = np.array([[1, 2, 3, 4], [5, 6, 7, 8], [9, 10, 11, 12]])\n",
    "print(\"Before expanding dimesion:\\n\", given_arr, \"\\n\")\n",
    "\n",
    "# Expanding dimension using 'expand_dims()' function from numpy library\n",
    "expand_dims = np.expand_dims(given_arr, axis=0)\n",
    "print(\"After expanding dimension:\\n\", expand_dims)\n"
   ]
  },
  {
   "cell_type": "markdown",
   "metadata": {},
   "source": [
    "**Problem 10:** How to transpose the following array in Numpy?\n",
    "\n",
    "**Solution:**"
   ]
  },
  {
   "cell_type": "code",
   "execution_count": 42,
   "metadata": {},
   "outputs": [
    {
     "name": "stdout",
     "output_type": "stream",
     "text": [
      "Before transpose:\n",
      " [[ 1  2  3  4]\n",
      " [ 5  6  7  8]\n",
      " [ 9 10 11 12]] \n",
      "\n",
      "After transpose:\n",
      " [[ 1  5  9]\n",
      " [ 2  6 10]\n",
      " [ 3  7 11]\n",
      " [ 4  8 12]]\n"
     ]
    }
   ],
   "source": [
    "# Given array\n",
    "given_arr = np.array([[1, 2, 3, 4], [5, 6, 7, 8], [9, 10, 11, 12]])\n",
    "print(\"Before transpose:\\n\", given_arr, \"\\n\")\n",
    "\n",
    "# Transpose the given array using 'T' method\n",
    "transpose_arr = given_arr.T\n",
    "print(\"After transpose:\\n\", transpose_arr)"
   ]
  },
  {
   "cell_type": "markdown",
   "metadata": {},
   "source": [
    "**Problem 11.** Consider the following matrix:\n",
    "\n",
    "* matrixA = [[1, 2, 3, 4], [5, 6, 7, 8], [9, 10, 11, 12]]\n",
    "* matrixB = [[1, 2, 3, 4], [5, 6, 7, 8], [9, 10, 11, 12]]\n",
    "\n",
    "**Perform the following operation using Python:\n",
    " 1. Index wise multiplication\n",
    " 2. Matrix multiplication\n",
    " 3. Add both the matrics\n",
    " 4. Substract matrix B from A\n",
    " 5. Divide Matrix B by A\n",
    "\n",
    "**Solution:**"
   ]
  },
  {
   "cell_type": "code",
   "execution_count": 4,
   "metadata": {},
   "outputs": [],
   "source": [
    "# Given matrics\n",
    "matrixA = np.array([[1, 2, 3, 4], [5, 6, 7, 8], [9, 10, 11, 12]])\n",
    "matrixB = np.array([[1, 2, 3, 4], [5, 6, 7, 8], [9, 10, 11, 12]])"
   ]
  },
  {
   "cell_type": "code",
   "execution_count": 56,
   "metadata": {},
   "outputs": [
    {
     "name": "stdout",
     "output_type": "stream",
     "text": [
      "[[  1   4   9  16]\n",
      " [ 25  36  49  64]\n",
      " [ 81 100 121 144]]\n"
     ]
    }
   ],
   "source": [
    "# Performing index wise multiplication\n",
    "result = matrixA * matrixB\n",
    "print(result)"
   ]
  },
  {
   "cell_type": "code",
   "execution_count": 93,
   "metadata": {},
   "outputs": [
    {
     "name": "stdout",
     "output_type": "stream",
     "text": [
      "result: Not possible\n"
     ]
    }
   ],
   "source": [
    "# Performing matrix multiplication\n",
    "\n",
    "cols_matrixA = matrixA[0].size  # Calculating total column of matrixA\n",
    "rows_matrixB = matrixB.shape[0] # Calculating total rows of matrixB\n",
    "\n",
    "# matrixA @ matrixB, possible if total column of matrixA == total rows of matrixB\n",
    "if cols_matrixA == rows_matrixB:\n",
    "    result = matrixA @ matrixB\n",
    "    print(result)\n",
    "else:\n",
    "    print(\"result: Not possible\")"
   ]
  },
  {
   "cell_type": "code",
   "execution_count": 94,
   "metadata": {},
   "outputs": [
    {
     "name": "stdout",
     "output_type": "stream",
     "text": [
      "[[ 2  4  6  8]\n",
      " [10 12 14 16]\n",
      " [18 20 22 24]]\n"
     ]
    }
   ],
   "source": [
    "# Performing matrics addition\n",
    "result = matrixA + matrixB\n",
    "print(result)"
   ]
  },
  {
   "cell_type": "code",
   "execution_count": 5,
   "metadata": {},
   "outputs": [
    {
     "name": "stdout",
     "output_type": "stream",
     "text": [
      "[[0 0 0 0]\n",
      " [0 0 0 0]\n",
      " [0 0 0 0]]\n"
     ]
    }
   ],
   "source": [
    "# Substracting matrixB from matrixA\n",
    "result = matrixA - matrixB\n",
    "print(result)"
   ]
  },
  {
   "cell_type": "code",
   "execution_count": 96,
   "metadata": {},
   "outputs": [
    {
     "name": "stdout",
     "output_type": "stream",
     "text": [
      "[[1. 1. 1. 1.]\n",
      " [1. 1. 1. 1.]\n",
      " [1. 1. 1. 1.]]\n"
     ]
    }
   ],
   "source": [
    "# Divide matrixB by matrixA\n",
    "result = matrixB / matrixA\n",
    "print(result)"
   ]
  },
  {
   "cell_type": "markdown",
   "metadata": {},
   "source": [
    "**Problem 12:** Which function in Numpy can be used to swap the byte order of an array?\n",
    "\n",
    "**Solution:** The numpy.byteswap() function can be used to swap the byte order of an array. It returns a new array with the bytes of each element swapped. The syntax of the numpy.byteswap() function is as follows:\n",
    "* *numpy.byteswap(arr)*\n",
    "\n",
    "Here's an example of how to use the 'numpy.ndarray.byteswap' function:"
   ]
  },
  {
   "cell_type": "code",
   "execution_count": 20,
   "metadata": {},
   "outputs": [
    {
     "name": "stdout",
     "output_type": "stream",
     "text": [
      "Original byte order: =\n",
      "Byte order after swapping: =\n"
     ]
    }
   ],
   "source": [
    "# Create a Numpy array\n",
    "arr = np.array([1, 2, 3, 14])\n",
    "\n",
    "# Print the byte order of the array\n",
    "print(\"Original byte order:\", arr.dtype.byteorder)\n",
    "\n",
    "# Swap the byte order of hte array\n",
    "arr = arr.byteswap()\n",
    "\n",
    "# Print the byte order of the array after swapping\n",
    "print(\"Byte order after swapping:\", arr.dtype.byteorder)"
   ]
  },
  {
   "cell_type": "markdown",
   "metadata": {},
   "source": [
    "**Problem 13:** What is the significance of the np.linalg.inv function?\n",
    "\n",
    "**Solution:** The 'np.linalg.inv' function in Numpy is used to compute the multiplicative inverse of a square matrix, In linear algebra, the inverse of a matrix is crucial for solving systems of linear equations and for various other mathematical operations.\n",
    "\n",
    "Here a brief explanation of the significance.\n",
    "* *Solving Equations:* When we have a systems of linear equations (line x + y = 5 and 2x - 3y = 10) represented by a matrix (Ax = B), 'np.linalg.inv' helps find the values of variables by multiplying the inverse of matrix A with the constant matrix B.\n",
    "\n",
    "* *Checking Invertibility:* Before finding the inverse , its crucial to checks if a matrix is invertible. 'np.linalg.inv' indirectly helps by checking if the determinant of the matrix is non-zero.\n",
    "\n",
    "* *Eisenvalue problems:* In certain involving characteristics of systems, the inverse of a matrix is used 'np.linalg.inv' is useful in such scenarios.\n",
    "\n",
    "* Example:"
   ]
  },
  {
   "cell_type": "code",
   "execution_count": 11,
   "metadata": {},
   "outputs": [
    {
     "name": "stdout",
     "output_type": "stream",
     "text": [
      "[[-0.2   0.1 ]\n",
      " [ 0.15 -0.05]]\n"
     ]
    }
   ],
   "source": [
    "# Define a 2 x 2 matrix\n",
    "A = np.array([[10, 20], [30, 40]])\n",
    "\n",
    "# Calculate the inverse of A\n",
    "A_inv = np.linalg.inv(A)\n",
    "\n",
    "# Print the inverse of A\n",
    "print(A_inv)"
   ]
  },
  {
   "cell_type": "markdown",
   "metadata": {},
   "source": [
    "**Problem 14:** What does the np.reshape function do, and how is it used?\n",
    "\n",
    "**SOlution:** The 'np.reshape' function in Numpy is used to change the shape of an array without changing its data. It returns a new array with the same data but with a different shape. The function is useful when we need to change the dimensions of an array, for example, when we want to convert a one-dimensional array into a two-dimensional array or vice versa. It can also be used to create arrays with a specific shape, such as matrices and tensors.\n",
    "\n",
    "The syntax of the 'np.reshape' function is 'numpy.reshape(a, newshape, order='c), were 'a' is the array to be reshaped, 'newshape' is desired shape of the new array, and 'order' is the order of the elements in the new array. The 'newshape' argument can be a tuple or a list of integers.\n",
    "\n",
    "Here are some examples of how to use the 'np.reshape' function:"
   ]
  },
  {
   "cell_type": "code",
   "execution_count": 13,
   "metadata": {},
   "outputs": [
    {
     "name": "stdout",
     "output_type": "stream",
     "text": [
      "[[ 1  2  3  4]\n",
      " [ 5  6  7  8]\n",
      " [ 9 10 11 12]]\n"
     ]
    }
   ],
   "source": [
    "# Reshaping a 2D Numpy array\n",
    "\n",
    "arr_2D = np.array([[1, 2, 3], [4, 5, 6], [7, 8, 9], [10, 11, 12]])\n",
    "reshaped = np.reshape(arr_2D, (3, 4))\n",
    "print(reshaped)"
   ]
  },
  {
   "cell_type": "code",
   "execution_count": 14,
   "metadata": {},
   "outputs": [
    {
     "name": "stdout",
     "output_type": "stream",
     "text": [
      "[[ 1  2  3  4]\n",
      " [ 5  6  7  8]\n",
      " [ 9 10 11 12]]\n"
     ]
    }
   ],
   "source": [
    "# Reshaping a Numpy array using a variable and an inferred dimension\n",
    "\n",
    "arr_2D = np.array([[1, 2, 3], [4, 5, 6], [7, 8, 9], [10, 11, 12]])\n",
    "reshaped = np.reshape(arr_2D, (3, -1))\n",
    "print(reshaped)\n"
   ]
  },
  {
   "cell_type": "markdown",
   "metadata": {},
   "source": [
    "**Problem 15:** What is broadcasting in Numpy?\n",
    "\n",
    "**Solution:** In Numpy, broadcasting refers to the ability to perform element-wise operations on arrays of different shapes and sizes. Numpy automatically adjust the dimensions of smaller array to match the larger one, making it possible to perform operations without explicity reshaping the arrays. This simplifies code and improves efficiency in array operations.\n",
    "\n",
    "Examples:"
   ]
  },
  {
   "cell_type": "code",
   "execution_count": 6,
   "metadata": {},
   "outputs": [
    {
     "name": "stdout",
     "output_type": "stream",
     "text": [
      "[3 4 5]\n"
     ]
    }
   ],
   "source": [
    "# Broadcasting between a 1D array and a scalar value:\n",
    "\n",
    "a = np.array([1, 2, 3])\n",
    "b = 2\n",
    "result = a + b\n",
    "print(result)"
   ]
  },
  {
   "cell_type": "code",
   "execution_count": 10,
   "metadata": {},
   "outputs": [
    {
     "name": "stdout",
     "output_type": "stream",
     "text": [
      "[[3 4 7]\n",
      " [4 5 5]\n",
      " [5 6 7]]\n"
     ]
    }
   ],
   "source": [
    "# Broadcasting between a 2D arrays:\n",
    "\n",
    "a = np.array([[1, 2, 3]])\n",
    "b = np.array([[2, 2, 4], [3, 3, 2], [4, 4, 4]])\n",
    "result = a + b\n",
    "print(result)"
   ]
  }
 ],
 "metadata": {
  "kernelspec": {
   "display_name": "Python 3",
   "language": "python",
   "name": "python3"
  },
  "language_info": {
   "codemirror_mode": {
    "name": "ipython",
    "version": 3
   },
   "file_extension": ".py",
   "mimetype": "text/x-python",
   "name": "python",
   "nbconvert_exporter": "python",
   "pygments_lexer": "ipython3",
   "version": "3.11.5"
  }
 },
 "nbformat": 4,
 "nbformat_minor": 2
}
